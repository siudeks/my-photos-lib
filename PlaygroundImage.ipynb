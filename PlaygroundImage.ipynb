{
 "cells": [
  {
   "cell_type": "code",
   "execution_count": 2,
   "metadata": {},
   "outputs": [
    {
     "data": {
      "text/plain": [
       "'Describe this scene in very detailed way'"
      ]
     },
     "metadata": {},
     "output_type": "display_data"
    },
    {
     "name": "stderr",
     "output_type": "stream",
     "text": [
      "/tmp/ipykernel_2684/1763087281.py:19: DeprecationWarning: Starting with ImageIO v3 the behavior of this function will switch to that of iio.v3.imread. To keep the current behavior (and make this warning disappear) use `import imageio.v2 as imageio` or call `imageio.v2.imread` directly.\n",
      "  image = imageio.imread(heic_file_path)\n"
     ]
    },
    {
     "data": {
      "text/plain": [
       "' In the image, a young man is seated at an outdoor dining table. He\\'s dressed in a blue shirt and glasses, giving him a scholarly appearance. The table is set for two, with a bowl of soup and a plate of sushi ready to be enjoyed. A cup of coffee sits nearby, perhaps waiting to warm up the chilly day.\\n\\nThe man is positioned on the left side of the image, his attention seemingly drawn towards something off-camera. The table, made of wood, is adorned with a white tablecloth and a small vase holding a single flower, adding a touch of elegance to the setting.\\n\\nIn the background, there\\'s a building that houses a restaurant. A sign on the building reads \"Café\", indicating its purpose. The man appears to be enjoying his meal in solitude, perhaps taking a break from his studies or simply enjoying some alone time. '"
      ]
     },
     "metadata": {},
     "output_type": "display_data"
    },
    {
     "data": {
      "text/plain": [
       "'identify and classify objects in this image'"
      ]
     },
     "metadata": {},
     "output_type": "display_data"
    },
    {
     "data": {
      "text/plain": [
       "\" In the image, I can identify and classify several objects:\\n\\n1. A person sitting at a table.\\n2. A dining table with various items on it, including:\\n   - A bowl of food.\\n   - A small plate or saucer.\\n   - A cup.\\n   - A spoon.\\n   - A pair of chopsticks.\\n3. A chair the person is sitting on.\\n4. A dining table with a placemat and some items on it, including:\\n   - A bowl of food.\\n   - A small plate or saucer.\\n   - A cup.\\n   - A spoon.\\n5. A pair of chopsticks.\\n6. A person's handbag placed on the floor next to the table.\\n7. An outdoor dining area with a bench and a tree in the background.\\n8. A building with a glass facade in the background.\\n9. A potted plant on the ground near the dining area.\\n10. A person standing at a counter or bar in the background. \""
      ]
     },
     "metadata": {},
     "output_type": "display_data"
    }
   ],
   "source": [
    "from collections import namedtuple\n",
    "from types import SimpleNamespace\n",
    "import attr\n",
    "from io import BytesIO\n",
    "import json\n",
    "image_loc: str = '/z-aparatu/20240721_134802.heic'\n",
    "\n",
    "import imageio\n",
    "import ollama\n",
    "import base64\n",
    "\n",
    "# display the image\n",
    "from IPython.display import display, Image as DisplayImage\n",
    "\n",
    "import imageio.v3 as iio\n",
    "from PIL import Image as PILImage\n",
    "\n",
    "def heic_to_base64(heic_file_path):\n",
    "    image = imageio.imread(heic_file_path)\n",
    "\n",
    "    pil_image = PILImage.fromarray(image)\n",
    "\n",
    "    buffered = BytesIO()\n",
    "    pil_image.save(buffered, format=\"JPEG\")\n",
    "\n",
    "    img_base64 = base64.b64encode(buffered.getvalue()).decode(\"utf-8\")\n",
    "    return img_base64\n",
    "\n",
    "\n",
    "def display_heic_image(image_path) -> None:\n",
    "    # Read the HEIC image\n",
    "    heic_image = iio.imread(image_path)\n",
    "\n",
    "    # Convert the numpy array to a PIL image\n",
    "    pil_image = PILImage.fromarray(heic_image)\n",
    "\n",
    "    # Save the PIL image to a BytesIO object in JPEG format\n",
    "    img_buffer = BytesIO()\n",
    "    pil_image.save(img_buffer, format='JPEG')\n",
    "    img_buffer.seek(0)  # Rewind the buffer to the beginning\n",
    "\n",
    "    # Display the image\n",
    "    display(DisplayImage(data=img_buffer.read(), format='jpeg'))\n",
    "\n",
    "queries = [\n",
    "    'Describe this scene in very detailed way',\n",
    "    'identify and classify objects in this image'\n",
    "]\n",
    "\n",
    "\n",
    "def dict_to_obj(dictionary):\n",
    "    result = json.loads(json.dumps(dictionary), object_hook=lambda d: SimpleNamespace(**d))\n",
    "    return result\n",
    "\n",
    "def run_chat(msg: str) -> str:\n",
    "  res = ollama.chat(\n",
    "      stream=False,\n",
    "    model=\"llava:v1.6\",\n",
    "    messages=[\n",
    "      {\n",
    "        'role': 'system',\n",
    "        'content': 'You are helping to describe tags related to provided pictures. Avoid redundant words like image'\n",
    "      },\n",
    "      {\n",
    "        'role': 'user',\n",
    "        'content': msg,\n",
    "        'images': [heic_to_base64(image_loc)]\n",
    "      }\n",
    "    ],\n",
    "    options = {\n",
    "      #'temperature': 1.5, # very creative\n",
    "      'temperature': 0 # very conservative (good for coding and correct syntax)\n",
    "    }\n",
    "  )\n",
    "\n",
    "  response = dict_to_obj(res)\n",
    "  return response.message.content\n",
    "\n",
    "# display_heic_image(image_loc)\n",
    "\n",
    "for query in queries:\n",
    "    display(query)\n",
    "    display(run_chat(query))\n",
    "\n"
   ]
  }
 ],
 "metadata": {
  "kernelspec": {
   "display_name": ".venv",
   "language": "python",
   "name": "python3"
  },
  "language_info": {
   "codemirror_mode": {
    "name": "ipython",
    "version": 3
   },
   "file_extension": ".py",
   "mimetype": "text/x-python",
   "name": "python",
   "nbconvert_exporter": "python",
   "pygments_lexer": "ipython3",
   "version": "3.12.4"
  }
 },
 "nbformat": 4,
 "nbformat_minor": 2
}
