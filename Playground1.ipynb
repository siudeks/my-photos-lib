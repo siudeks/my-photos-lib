{
 "cells": [
  {
   "cell_type": "code",
   "execution_count": 23,
   "metadata": {},
   "outputs": [
    {
     "ename": "TypeError",
     "evalue": "'module' object is not callable",
     "output_type": "error",
     "traceback": [
      "\u001b[0;31m---------------------------------------------------------------------------\u001b[0m",
      "\u001b[0;31mTypeError\u001b[0m                                 Traceback (most recent call last)",
      "Cell \u001b[0;32mIn[23], line 52\u001b[0m\n\u001b[1;32m     49\u001b[0m     \u001b[38;5;66;03m# Display the image\u001b[39;00m\n\u001b[1;32m     50\u001b[0m     display(display\u001b[38;5;241m.\u001b[39mImage(data\u001b[38;5;241m=\u001b[39mimg_buffer\u001b[38;5;241m.\u001b[39mread(), \u001b[38;5;28mformat\u001b[39m\u001b[38;5;241m=\u001b[39m\u001b[38;5;124m'\u001b[39m\u001b[38;5;124mjpeg\u001b[39m\u001b[38;5;124m'\u001b[39m))\n\u001b[0;32m---> 52\u001b[0m \u001b[43mdisplay_heic_image\u001b[49m\u001b[43m(\u001b[49m\u001b[43mimage_loc\u001b[49m\u001b[43m)\u001b[49m\n\u001b[1;32m     54\u001b[0m res \u001b[38;5;241m=\u001b[39m ollama\u001b[38;5;241m.\u001b[39mchat(\n\u001b[1;32m     55\u001b[0m \tmodel\u001b[38;5;241m=\u001b[39m\u001b[38;5;124m\"\u001b[39m\u001b[38;5;124mllava\u001b[39m\u001b[38;5;124m\"\u001b[39m,\n\u001b[1;32m     56\u001b[0m \tmessages\u001b[38;5;241m=\u001b[39m[\n\u001b[0;32m   (...)\u001b[0m\n\u001b[1;32m     66\u001b[0m \t]\n\u001b[1;32m     67\u001b[0m )\n\u001b[1;32m     70\u001b[0m \u001b[38;5;66;03m# Display AI response\u001b[39;00m\n",
      "Cell \u001b[0;32mIn[23], line 50\u001b[0m, in \u001b[0;36mdisplay_heic_image\u001b[0;34m(image_path)\u001b[0m\n\u001b[1;32m     47\u001b[0m img_buffer\u001b[38;5;241m.\u001b[39mseek(\u001b[38;5;241m0\u001b[39m)  \u001b[38;5;66;03m# Rewind the buffer to the beginning\u001b[39;00m\n\u001b[1;32m     49\u001b[0m \u001b[38;5;66;03m# Display the image\u001b[39;00m\n\u001b[0;32m---> 50\u001b[0m \u001b[43mdisplay\u001b[49m\u001b[43m(\u001b[49m\u001b[43mdisplay\u001b[49m\u001b[38;5;241;43m.\u001b[39;49m\u001b[43mImage\u001b[49m\u001b[43m(\u001b[49m\u001b[43mdata\u001b[49m\u001b[38;5;241;43m=\u001b[39;49m\u001b[43mimg_buffer\u001b[49m\u001b[38;5;241;43m.\u001b[39;49m\u001b[43mread\u001b[49m\u001b[43m(\u001b[49m\u001b[43m)\u001b[49m\u001b[43m,\u001b[49m\u001b[43m \u001b[49m\u001b[38;5;28;43mformat\u001b[39;49m\u001b[38;5;241;43m=\u001b[39;49m\u001b[38;5;124;43m'\u001b[39;49m\u001b[38;5;124;43mjpeg\u001b[39;49m\u001b[38;5;124;43m'\u001b[39;49m\u001b[43m)\u001b[49m\u001b[43m)\u001b[49m\n",
      "\u001b[0;31mTypeError\u001b[0m: 'module' object is not callable"
     ]
    }
   ],
   "source": [
    "from io import BytesIO\n",
    "image_loc: str = '/z-aparatu/20240720_100554.heic'\n",
    "\n",
    "import imageio\n",
    "import ollama\n",
    "import base64\n",
    "\n",
    "# display the image\n",
    "from IPython.display import display, Image as DisplayImage\n",
    "\n",
    "import imageio.v3 as iio\n",
    "from PIL import Image as PILImage\n",
    "import io\n",
    "\n",
    "def heic_to_base64(heic_file_path):\n",
    "    # Read the HEIC file\n",
    "    image = imageio.imread(heic_file_path)\n",
    "\n",
    "    # Convert to PIL Image\n",
    "    pil_image = Image.fromarray(image)\n",
    "\n",
    "    # Save the PIL Image to a BytesIO object\n",
    "    buffered = BytesIO()\n",
    "    pil_image.save(buffered, format=\"JPEG\")\n",
    "\n",
    "    # Encode the BytesIO object to base64\n",
    "    img_base64 = base64.b64encode(buffered.getvalue()).decode(\"utf-8\")\n",
    "    return img_base64\n",
    "\n",
    "\n",
    "def display_heic_image(image_path):\n",
    "    \"\"\"\n",
    "    Converts a HEIC image to a supported format (JPEG) in memory and displays it.\n",
    "\n",
    "    Parameters:\n",
    "        image_path (str): Path to the HEIC image file.\n",
    "    \"\"\"\n",
    "    # Read the HEIC image\n",
    "    heic_image = iio.imread(image_path)\n",
    "\n",
    "    # Convert the numpy array to a PIL image\n",
    "    pil_image = PILImage.fromarray(heic_image)\n",
    "\n",
    "    # Save the PIL image to a BytesIO object in JPEG format\n",
    "    img_buffer = io.BytesIO()\n",
    "    pil_image.save(img_buffer, format='JPEG')\n",
    "    img_buffer.seek(0)  # Rewind the buffer to the beginning\n",
    "\n",
    "    # Display the image\n",
    "    display(DisplayImage(data=img_buffer.read(), format='jpeg'))\n",
    "\n",
    "display_heic_image(image_loc)\n",
    "\n",
    "res = ollama.chat(\n",
    "\tmodel=\"llava\",\n",
    "\tmessages=[\n",
    "        {\n",
    "\t\t\t'role': 'system',\n",
    "            'content': 'Answer about received photos using polish language.',\n",
    "\t\t},\n",
    "\t\t{\n",
    "\t\t\t'role': 'user',\n",
    "            'content': 'How many people are on the image?',\n",
    "\t\t\t'images': [heic_to_base64(image_loc)]\n",
    "\t\t}\n",
    "\t]\n",
    ")\n",
    "\n",
    "\n",
    "# Display AI response\n",
    "display(res)\n",
    "\n"
   ]
  }
 ],
 "metadata": {
  "kernelspec": {
   "display_name": ".venv",
   "language": "python",
   "name": "python3"
  },
  "language_info": {
   "codemirror_mode": {
    "name": "ipython",
    "version": 3
   },
   "file_extension": ".py",
   "mimetype": "text/x-python",
   "name": "python",
   "nbconvert_exporter": "python",
   "pygments_lexer": "ipython3",
   "version": "3.12.4"
  }
 },
 "nbformat": 4,
 "nbformat_minor": 2
}
